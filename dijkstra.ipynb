{
 "cells": [
  {
   "cell_type": "code",
   "execution_count": 1,
   "metadata": {},
   "outputs": [],
   "source": [
    "import numpy as np \n",
    "import pandas as pd\n",
    "import networkx as nx"
   ]
  },
  {
   "cell_type": "code",
   "execution_count": 2,
   "metadata": {},
   "outputs": [
    {
     "data": {
      "text/html": [
       "<div>\n",
       "<style scoped>\n",
       "    .dataframe tbody tr th:only-of-type {\n",
       "        vertical-align: middle;\n",
       "    }\n",
       "\n",
       "    .dataframe tbody tr th {\n",
       "        vertical-align: top;\n",
       "    }\n",
       "\n",
       "    .dataframe thead th {\n",
       "        text-align: right;\n",
       "    }\n",
       "</style>\n",
       "<table border=\"1\" class=\"dataframe\">\n",
       "  <thead>\n",
       "    <tr style=\"text-align: right;\">\n",
       "      <th></th>\n",
       "      <th>origem</th>\n",
       "      <th>destinho</th>\n",
       "      <th>distancia KM</th>\n",
       "      <th>distancia M</th>\n",
       "    </tr>\n",
       "  </thead>\n",
       "  <tbody>\n",
       "    <tr>\n",
       "      <th>0</th>\n",
       "      <td>Macapá</td>\n",
       "      <td>Santana</td>\n",
       "      <td>23</td>\n",
       "      <td>23000</td>\n",
       "    </tr>\n",
       "    <tr>\n",
       "      <th>1</th>\n",
       "      <td>Macapá</td>\n",
       "      <td>Cutias</td>\n",
       "      <td>139</td>\n",
       "      <td>139000</td>\n",
       "    </tr>\n",
       "    <tr>\n",
       "      <th>2</th>\n",
       "      <td>Macapá</td>\n",
       "      <td>Itaubal</td>\n",
       "      <td>102</td>\n",
       "      <td>102000</td>\n",
       "    </tr>\n",
       "    <tr>\n",
       "      <th>3</th>\n",
       "      <td>Macapá</td>\n",
       "      <td>Porto Grande</td>\n",
       "      <td>112</td>\n",
       "      <td>112000</td>\n",
       "    </tr>\n",
       "    <tr>\n",
       "      <th>4</th>\n",
       "      <td>Macapá</td>\n",
       "      <td>Mazagão</td>\n",
       "      <td>36</td>\n",
       "      <td>36000</td>\n",
       "    </tr>\n",
       "    <tr>\n",
       "      <th>5</th>\n",
       "      <td>Santana</td>\n",
       "      <td>Mazagão</td>\n",
       "      <td>25</td>\n",
       "      <td>25000</td>\n",
       "    </tr>\n",
       "    <tr>\n",
       "      <th>6</th>\n",
       "      <td>Santana</td>\n",
       "      <td>Laranjal do Jari</td>\n",
       "      <td>279</td>\n",
       "      <td>279000</td>\n",
       "    </tr>\n",
       "    <tr>\n",
       "      <th>7</th>\n",
       "      <td>Porto Grande</td>\n",
       "      <td>Ferreira Gomes</td>\n",
       "      <td>37</td>\n",
       "      <td>37000</td>\n",
       "    </tr>\n",
       "    <tr>\n",
       "      <th>8</th>\n",
       "      <td>Porto Grande</td>\n",
       "      <td>Pedra Branca do Amapari</td>\n",
       "      <td>75</td>\n",
       "      <td>75000</td>\n",
       "    </tr>\n",
       "    <tr>\n",
       "      <th>9</th>\n",
       "      <td>Pedra Branca do Amapari</td>\n",
       "      <td>Serra do Navio</td>\n",
       "      <td>21</td>\n",
       "      <td>21000</td>\n",
       "    </tr>\n",
       "    <tr>\n",
       "      <th>10</th>\n",
       "      <td>Ferreira Gomes</td>\n",
       "      <td>Tartarugalzinho</td>\n",
       "      <td>97</td>\n",
       "      <td>97000</td>\n",
       "    </tr>\n",
       "    <tr>\n",
       "      <th>11</th>\n",
       "      <td>Tartarugalzinho</td>\n",
       "      <td>Amapá</td>\n",
       "      <td>45</td>\n",
       "      <td>45000</td>\n",
       "    </tr>\n",
       "    <tr>\n",
       "      <th>12</th>\n",
       "      <td>Tartarugalzinho</td>\n",
       "      <td>Pracuuba</td>\n",
       "      <td>43</td>\n",
       "      <td>43000</td>\n",
       "    </tr>\n",
       "    <tr>\n",
       "      <th>13</th>\n",
       "      <td>Amapá</td>\n",
       "      <td>Calçoene</td>\n",
       "      <td>122</td>\n",
       "      <td>122000</td>\n",
       "    </tr>\n",
       "    <tr>\n",
       "      <th>14</th>\n",
       "      <td>Calçoene</td>\n",
       "      <td>Oiapoque</td>\n",
       "      <td>219</td>\n",
       "      <td>219000</td>\n",
       "    </tr>\n",
       "  </tbody>\n",
       "</table>\n",
       "</div>"
      ],
      "text/plain": [
       "                     origem                 destinho  distancia KM  \\\n",
       "0                    Macapá                  Santana            23   \n",
       "1                    Macapá                   Cutias           139   \n",
       "2                    Macapá                  Itaubal           102   \n",
       "3                    Macapá             Porto Grande           112   \n",
       "4                    Macapá                  Mazagão            36   \n",
       "5                   Santana                  Mazagão            25   \n",
       "6                   Santana         Laranjal do Jari           279   \n",
       "7              Porto Grande           Ferreira Gomes            37   \n",
       "8              Porto Grande  Pedra Branca do Amapari            75   \n",
       "9   Pedra Branca do Amapari           Serra do Navio            21   \n",
       "10           Ferreira Gomes          Tartarugalzinho            97   \n",
       "11          Tartarugalzinho                    Amapá            45   \n",
       "12          Tartarugalzinho                 Pracuuba            43   \n",
       "13                    Amapá                 Calçoene           122   \n",
       "14                 Calçoene                 Oiapoque           219   \n",
       "\n",
       "    distancia M  \n",
       "0         23000  \n",
       "1        139000  \n",
       "2        102000  \n",
       "3        112000  \n",
       "4         36000  \n",
       "5         25000  \n",
       "6        279000  \n",
       "7         37000  \n",
       "8         75000  \n",
       "9         21000  \n",
       "10        97000  \n",
       "11        45000  \n",
       "12        43000  \n",
       "13       122000  \n",
       "14       219000  "
      ]
     },
     "execution_count": 2,
     "metadata": {},
     "output_type": "execute_result"
    }
   ],
   "source": [
    "df = pd.read_csv('amapa.csv', index_col=None)\n",
    "df"
   ]
  },
  {
   "cell_type": "code",
   "execution_count": 3,
   "metadata": {},
   "outputs": [],
   "source": [
    "ap = nx.from_pandas_edgelist(df, source='origem', target='destinho', edge_attr='distancia M')"
   ]
  },
  {
   "cell_type": "code",
   "execution_count": 4,
   "metadata": {},
   "outputs": [
    {
     "data": {
      "text/plain": [
       "NodeView(('Macapá', 'Santana', 'Cutias', 'Itaubal', 'Porto Grande', 'Mazagão', 'Laranjal do Jari', 'Ferreira Gomes', 'Pedra Branca do Amapari', 'Serra do Navio', 'Tartarugalzinho', 'Amapá', 'Pracuuba', 'Calçoene', 'Oiapoque'))"
      ]
     },
     "execution_count": 4,
     "metadata": {},
     "output_type": "execute_result"
    }
   ],
   "source": [
    "ap.nodes()"
   ]
  },
  {
   "cell_type": "code",
   "execution_count": 5,
   "metadata": {},
   "outputs": [
    {
     "data": {
      "text/plain": [
       "EdgeView([('Macapá', 'Santana'), ('Macapá', 'Cutias'), ('Macapá', 'Itaubal'), ('Macapá', 'Porto Grande'), ('Macapá', 'Mazagão'), ('Santana', 'Mazagão'), ('Santana', 'Laranjal do Jari'), ('Porto Grande', 'Ferreira Gomes'), ('Porto Grande', 'Pedra Branca do Amapari'), ('Ferreira Gomes', 'Tartarugalzinho'), ('Pedra Branca do Amapari', 'Serra do Navio'), ('Tartarugalzinho', 'Amapá'), ('Tartarugalzinho', 'Pracuuba'), ('Amapá', 'Calçoene'), ('Calçoene', 'Oiapoque')])"
      ]
     },
     "execution_count": 5,
     "metadata": {},
     "output_type": "execute_result"
    }
   ],
   "source": [
    "ap.edges()"
   ]
  },
  {
   "cell_type": "code",
   "execution_count": 6,
   "metadata": {},
   "outputs": [
    {
     "data": {
      "text/plain": [
       "15"
      ]
     },
     "execution_count": 6,
     "metadata": {},
     "output_type": "execute_result"
    }
   ],
   "source": [
    "ap.order()"
   ]
  },
  {
   "cell_type": "code",
   "execution_count": 7,
   "metadata": {},
   "outputs": [
    {
     "name": "stdout",
     "output_type": "stream",
     "text": [
      "Macapá\n",
      "Santana\n",
      "Porto Grande\n",
      "Tartarugalzinho\n"
     ]
    }
   ],
   "source": [
    "# cidades que possuem mais de um caminho\n",
    "for x in ap.nodes():\n",
    "    if ap.degree(x) > 2:\n",
    "       print(x)"
   ]
  },
  {
   "cell_type": "code",
   "execution_count": 8,
   "metadata": {},
   "outputs": [
    {
     "data": {
      "text/plain": [
       "['Macapá',\n",
       " 'Porto Grande',\n",
       " 'Ferreira Gomes',\n",
       " 'Tartarugalzinho',\n",
       " 'Amapá',\n",
       " 'Calçoene',\n",
       " 'Oiapoque']"
      ]
     },
     "execution_count": 8,
     "metadata": {},
     "output_type": "execute_result"
    }
   ],
   "source": [
    "djk2 = nx.dijkstra_path(ap, source='Macapá', target='Oiapoque', weight=True)\n",
    "djk2"
   ]
  },
  {
   "cell_type": "code",
   "execution_count": 10,
   "metadata": {},
   "outputs": [
    {
     "data": {
      "image/png": "[encoded data removed]",
      "text/plain": [
       "<Figure size 640x480 with 1 Axes>"
      ]
     },
     "metadata": {},
     "output_type": "display_data"
    }
   ],
   "source": [
    "rota1 = ap.subgraph(['Macapá','Porto Grande','Ferreira Gomes','Tartarugalzinho','Amapá','Calçoene','Oiapoque'])\n",
    "nx.draw(rota1, with_labels=True)"
   ]
  }
 ],
 "metadata": {
  "kernelspec": {
   "display_name": "Python 3",
   "language": "python",
   "name": "python3"
  },
  "language_info": {
   "codemirror_mode": {
    "name": "ipython",
    "version": 3
   },
   "file_extension": ".py",
   "mimetype": "text/x-python",
   "name": "python",
   "nbconvert_exporter": "python",
   "pygments_lexer": "ipython3",
   "version": "3.10.0"
  }
 },
 "nbformat": 4,
 "nbformat_minor": 4
}
